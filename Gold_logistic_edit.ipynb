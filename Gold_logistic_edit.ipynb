{
 "cells": [
  {
   "cell_type": "code",
   "execution_count": 101,
   "metadata": {
    "collapsed": true
   },
   "outputs": [],
   "source": [
    "import pandas as pd \n",
    "import numpy as np \n",
    "import matplotlib.pyplot as plt \n",
    "import seaborn as sns\n",
    "import numpy as np \n",
    "from quantopian.pipeline.factors import CustomFactor,Returns,morningstar\n",
    "from quantopian.pipeline import Pipeline\n",
    "from quantopian.pipeline.data.builtin import USEquityPricing\n",
    "from quantopian.interactive.data.psychsignal import stocktwits\n",
    "from quantopian.research import run_pipeline\n",
    "import pandas as pd\n",
    "import matplotlib.pyplot as plt\n",
    "from quantopian.pipeline.data import morningstar\n",
    "import talib"
   ]
  },
  {
   "cell_type": "markdown",
   "metadata": {
    "collapsed": false
   },
   "source": [
    "<h3>Predicting NUGT's price</h3>"
   ]
  },
  {
   "cell_type": "code",
   "execution_count": 102,
   "metadata": {
    "collapsed": true
   },
   "outputs": [],
   "source": [
    "price_gld = get_pricing('GLD',start_date='2014-01-25', end_date='2016-01-25')\n",
    "price_nugt = get_pricing('NUGT',start_date='2014-01-25', end_date='2016-01-25')"
   ]
  },
  {
   "cell_type": "code",
   "execution_count": 103,
   "metadata": {
    "collapsed": true
   },
   "outputs": [],
   "source": [
    "price_nugt.drop(['open_price', u'high', u'low',u'volume', u'price'],axis=1,inplace=True)\n",
    "price_gld.drop(['open_price', u'high', u'low',u'volume', u'price'],axis=1,inplace=True)"
   ]
  },
  {
   "cell_type": "code",
   "execution_count": 104,
   "metadata": {
    "collapsed": true
   },
   "outputs": [],
   "source": [
    "price_nugt.columns=['close_price_nugt']\n",
    "price_spy.columns =['close_price_spy']\n",
    "price_gld.columns =['close_price_gld']"
   ]
  },
  {
   "cell_type": "code",
   "execution_count": 106,
   "metadata": {
    "collapsed": true
   },
   "outputs": [],
   "source": [
    "all_price = pd.concat([price_gld,price_nugt,price_spy],axis =1)"
   ]
  },
  {
   "cell_type": "code",
   "execution_count": 107,
   "metadata": {
    "collapsed": false
   },
   "outputs": [
    {
     "data": {
      "text/html": [
       "<div>\n",
       "<table border=\"1\" class=\"dataframe\">\n",
       "  <thead>\n",
       "    <tr style=\"text-align: right;\">\n",
       "      <th></th>\n",
       "      <th>close_price_gld</th>\n",
       "      <th>close_price_nugt</th>\n",
       "      <th>close_price_spy</th>\n",
       "    </tr>\n",
       "  </thead>\n",
       "  <tbody>\n",
       "    <tr>\n",
       "      <th>2014-01-27 00:00:00+00:00</th>\n",
       "      <td>120.94</td>\n",
       "      <td>341.0</td>\n",
       "      <td>171.059</td>\n",
       "    </tr>\n",
       "    <tr>\n",
       "      <th>2014-01-28 00:00:00+00:00</th>\n",
       "      <td>120.95</td>\n",
       "      <td>361.0</td>\n",
       "      <td>172.078</td>\n",
       "    </tr>\n",
       "    <tr>\n",
       "      <th>2014-01-29 00:00:00+00:00</th>\n",
       "      <td>122.46</td>\n",
       "      <td>391.9</td>\n",
       "      <td>170.406</td>\n",
       "    </tr>\n",
       "    <tr>\n",
       "      <th>2014-01-30 00:00:00+00:00</th>\n",
       "      <td>119.77</td>\n",
       "      <td>365.4</td>\n",
       "      <td>172.328</td>\n",
       "    </tr>\n",
       "    <tr>\n",
       "      <th>2014-01-31 00:00:00+00:00</th>\n",
       "      <td>120.09</td>\n",
       "      <td>364.7</td>\n",
       "      <td>171.155</td>\n",
       "    </tr>\n",
       "  </tbody>\n",
       "</table>\n",
       "</div>"
      ],
      "text/plain": [
       "                           close_price_gld  close_price_nugt  close_price_spy\n",
       "2014-01-27 00:00:00+00:00           120.94             341.0          171.059\n",
       "2014-01-28 00:00:00+00:00           120.95             361.0          172.078\n",
       "2014-01-29 00:00:00+00:00           122.46             391.9          170.406\n",
       "2014-01-30 00:00:00+00:00           119.77             365.4          172.328\n",
       "2014-01-31 00:00:00+00:00           120.09             364.7          171.155"
      ]
     },
     "execution_count": 107,
     "metadata": {},
     "output_type": "execute_result"
    }
   ],
   "source": [
    "all_price.head()"
   ]
  },
  {
   "cell_type": "markdown",
   "metadata": {},
   "source": [
    "<h3>Getting % returns of both the following day as well as the previous day for NUGT as well as the gld's previous day return </h3>"
   ]
  },
  {
   "cell_type": "code",
   "execution_count": 109,
   "metadata": {
    "collapsed": false
   },
   "outputs": [],
   "source": [
    "all_price['pct_change_gld'] = all_price['close_price_gld'][1:].pct_change()\n",
    "all_price['pct_change_nugt']= all_price['close_price_nugt'][1:].pct_change()\n",
    "all_price['pct_change_nugt_shifted']= all_price['close_price_nugt'].shift(-1)[1:].pct_change() "
   ]
  },
  {
   "cell_type": "code",
   "execution_count": 110,
   "metadata": {
    "collapsed": false
   },
   "outputs": [
    {
     "data": {
      "text/html": [
       "<div>\n",
       "<table border=\"1\" class=\"dataframe\">\n",
       "  <thead>\n",
       "    <tr style=\"text-align: right;\">\n",
       "      <th></th>\n",
       "      <th>close_price_gld</th>\n",
       "      <th>close_price_nugt</th>\n",
       "      <th>close_price_spy</th>\n",
       "      <th>pct_change_gld</th>\n",
       "      <th>pct_change_nugt</th>\n",
       "      <th>pct_change_nugt_shifted</th>\n",
       "    </tr>\n",
       "  </thead>\n",
       "  <tbody>\n",
       "    <tr>\n",
       "      <th>2014-01-27 00:00:00+00:00</th>\n",
       "      <td>120.94</td>\n",
       "      <td>341.0</td>\n",
       "      <td>171.059</td>\n",
       "      <td>NaN</td>\n",
       "      <td>NaN</td>\n",
       "      <td>NaN</td>\n",
       "    </tr>\n",
       "    <tr>\n",
       "      <th>2014-01-28 00:00:00+00:00</th>\n",
       "      <td>120.95</td>\n",
       "      <td>361.0</td>\n",
       "      <td>172.078</td>\n",
       "      <td>NaN</td>\n",
       "      <td>NaN</td>\n",
       "      <td>NaN</td>\n",
       "    </tr>\n",
       "    <tr>\n",
       "      <th>2014-01-29 00:00:00+00:00</th>\n",
       "      <td>122.46</td>\n",
       "      <td>391.9</td>\n",
       "      <td>170.406</td>\n",
       "      <td>0.012484</td>\n",
       "      <td>0.085596</td>\n",
       "      <td>-0.067619</td>\n",
       "    </tr>\n",
       "    <tr>\n",
       "      <th>2014-01-30 00:00:00+00:00</th>\n",
       "      <td>119.77</td>\n",
       "      <td>365.4</td>\n",
       "      <td>172.328</td>\n",
       "      <td>-0.021966</td>\n",
       "      <td>-0.067619</td>\n",
       "      <td>-0.001916</td>\n",
       "    </tr>\n",
       "    <tr>\n",
       "      <th>2014-01-31 00:00:00+00:00</th>\n",
       "      <td>120.09</td>\n",
       "      <td>364.7</td>\n",
       "      <td>171.155</td>\n",
       "      <td>0.002672</td>\n",
       "      <td>-0.001916</td>\n",
       "      <td>-0.018371</td>\n",
       "    </tr>\n",
       "  </tbody>\n",
       "</table>\n",
       "</div>"
      ],
      "text/plain": [
       "                           close_price_gld  close_price_nugt  close_price_spy  \\\n",
       "2014-01-27 00:00:00+00:00           120.94             341.0          171.059   \n",
       "2014-01-28 00:00:00+00:00           120.95             361.0          172.078   \n",
       "2014-01-29 00:00:00+00:00           122.46             391.9          170.406   \n",
       "2014-01-30 00:00:00+00:00           119.77             365.4          172.328   \n",
       "2014-01-31 00:00:00+00:00           120.09             364.7          171.155   \n",
       "\n",
       "                           pct_change_gld  pct_change_nugt  \\\n",
       "2014-01-27 00:00:00+00:00             NaN              NaN   \n",
       "2014-01-28 00:00:00+00:00             NaN              NaN   \n",
       "2014-01-29 00:00:00+00:00        0.012484         0.085596   \n",
       "2014-01-30 00:00:00+00:00       -0.021966        -0.067619   \n",
       "2014-01-31 00:00:00+00:00        0.002672        -0.001916   \n",
       "\n",
       "                           pct_change_nugt_shifted  \n",
       "2014-01-27 00:00:00+00:00                      NaN  \n",
       "2014-01-28 00:00:00+00:00                      NaN  \n",
       "2014-01-29 00:00:00+00:00                -0.067619  \n",
       "2014-01-30 00:00:00+00:00                -0.001916  \n",
       "2014-01-31 00:00:00+00:00                -0.018371  "
      ]
     },
     "execution_count": 110,
     "metadata": {},
     "output_type": "execute_result"
    }
   ],
   "source": [
    "all_price.head()"
   ]
  },
  {
   "cell_type": "code",
   "execution_count": 111,
   "metadata": {
    "collapsed": false
   },
   "outputs": [],
   "source": [
    "all_price.drop(['close_price_gld','close_price_nugt','close_price_spy'],inplace=True,axis=1)"
   ]
  },
  {
   "cell_type": "code",
   "execution_count": 112,
   "metadata": {
    "collapsed": true
   },
   "outputs": [],
   "source": [
    "all_price.dropna(inplace=True)"
   ]
  },
  {
   "cell_type": "code",
   "execution_count": 113,
   "metadata": {
    "collapsed": true
   },
   "outputs": [],
   "source": [
    "def make_dummies(col):\n",
    "    return 1 if col > 0 else 0"
   ]
  },
  {
   "cell_type": "code",
   "execution_count": 114,
   "metadata": {
    "collapsed": false
   },
   "outputs": [],
   "source": [
    "all_price['pct_change_gld'] = all_price['pct_change_gld'].apply(make_dummies)\n",
    "all_price['pct_change_nugt']= all_price['pct_change_nugt'].apply(make_dummies)\n",
    "all_price['pct_change_nugt_shifted'] = all_price['pct_change_nugt_shifted'].apply(make_dummies)"
   ]
  },
  {
   "cell_type": "code",
   "execution_count": 115,
   "metadata": {
    "collapsed": false
   },
   "outputs": [
    {
     "data": {
      "text/html": [
       "<div>\n",
       "<table border=\"1\" class=\"dataframe\">\n",
       "  <thead>\n",
       "    <tr style=\"text-align: right;\">\n",
       "      <th></th>\n",
       "      <th>pct_change_gld</th>\n",
       "      <th>pct_change_nugt</th>\n",
       "      <th>pct_change_nugt_shifted</th>\n",
       "    </tr>\n",
       "  </thead>\n",
       "  <tbody>\n",
       "    <tr>\n",
       "      <th>2014-01-29 00:00:00+00:00</th>\n",
       "      <td>1</td>\n",
       "      <td>1</td>\n",
       "      <td>0</td>\n",
       "    </tr>\n",
       "    <tr>\n",
       "      <th>2014-01-30 00:00:00+00:00</th>\n",
       "      <td>0</td>\n",
       "      <td>0</td>\n",
       "      <td>0</td>\n",
       "    </tr>\n",
       "    <tr>\n",
       "      <th>2014-01-31 00:00:00+00:00</th>\n",
       "      <td>1</td>\n",
       "      <td>0</td>\n",
       "      <td>0</td>\n",
       "    </tr>\n",
       "    <tr>\n",
       "      <th>2014-02-03 00:00:00+00:00</th>\n",
       "      <td>1</td>\n",
       "      <td>0</td>\n",
       "      <td>1</td>\n",
       "    </tr>\n",
       "    <tr>\n",
       "      <th>2014-02-04 00:00:00+00:00</th>\n",
       "      <td>0</td>\n",
       "      <td>1</td>\n",
       "      <td>0</td>\n",
       "    </tr>\n",
       "  </tbody>\n",
       "</table>\n",
       "</div>"
      ],
      "text/plain": [
       "                           pct_change_gld  pct_change_nugt  \\\n",
       "2014-01-29 00:00:00+00:00               1                1   \n",
       "2014-01-30 00:00:00+00:00               0                0   \n",
       "2014-01-31 00:00:00+00:00               1                0   \n",
       "2014-02-03 00:00:00+00:00               1                0   \n",
       "2014-02-04 00:00:00+00:00               0                1   \n",
       "\n",
       "                           pct_change_nugt_shifted  \n",
       "2014-01-29 00:00:00+00:00                        0  \n",
       "2014-01-30 00:00:00+00:00                        0  \n",
       "2014-01-31 00:00:00+00:00                        0  \n",
       "2014-02-03 00:00:00+00:00                        1  \n",
       "2014-02-04 00:00:00+00:00                        0  "
      ]
     },
     "execution_count": 115,
     "metadata": {},
     "output_type": "execute_result"
    }
   ],
   "source": [
    "all_price.head()"
   ]
  },
  {
   "cell_type": "code",
   "execution_count": 116,
   "metadata": {
    "collapsed": true
   },
   "outputs": [],
   "source": [
    "from sklearn.metrics import classification_report\n",
    "from sklearn.linear_model import LogisticRegression\n",
    "from sklearn.cross_validation import train_test_split"
   ]
  },
  {
   "cell_type": "code",
   "execution_count": 117,
   "metadata": {
    "collapsed": false
   },
   "outputs": [],
   "source": [
    "X = all_price[['pct_change_gld','pct_change_nugt']]\n",
    "y = all_price['pct_change_nugt_shifted']\n",
    "X_train, X_test, y_train, y_test = train_test_split(X, y, test_size=0.3, random_state=101)"
   ]
  },
  {
   "cell_type": "code",
   "execution_count": 118,
   "metadata": {
    "collapsed": true
   },
   "outputs": [],
   "source": [
    "lg = LogisticRegression()"
   ]
  },
  {
   "cell_type": "code",
   "execution_count": 119,
   "metadata": {
    "collapsed": false
   },
   "outputs": [
    {
     "data": {
      "text/plain": [
       "LogisticRegression(C=1.0, class_weight=None, dual=False, fit_intercept=True,\n",
       "          intercept_scaling=1, max_iter=100, multi_class='ovr',\n",
       "          penalty='l2', random_state=None, solver='liblinear', tol=0.0001,\n",
       "          verbose=0)"
      ]
     },
     "execution_count": 119,
     "metadata": {},
     "output_type": "execute_result"
    }
   ],
   "source": [
    "lg.fit(X_train,y_train)"
   ]
  },
  {
   "cell_type": "code",
   "execution_count": 120,
   "metadata": {
    "collapsed": true
   },
   "outputs": [],
   "source": [
    "predictions = lg.predict(X_test)"
   ]
  },
  {
   "cell_type": "markdown",
   "metadata": {},
   "source": [
    "<h3>The results are okay but when I backtested the strategy during different years it didn't perform well </h3>"
   ]
  },
  {
   "cell_type": "code",
   "execution_count": 122,
   "metadata": {
    "collapsed": false
   },
   "outputs": [
    {
     "name": "stdout",
     "output_type": "stream",
     "text": [
      "             precision    recall  f1-score   support\n",
      "\n",
      "          0       0.61      0.63      0.62        84\n",
      "          1       0.51      0.48      0.50        66\n",
      "\n",
      "avg / total       0.56      0.57      0.57       150\n",
      "\n"
     ]
    }
   ],
   "source": [
    "print(classification_report(y_test,predictions))"
   ]
  },
  {
   "cell_type": "code",
   "execution_count": null,
   "metadata": {
    "collapsed": true
   },
   "outputs": [],
   "source": []
  }
 ],
 "metadata": {
  "kernelspec": {
   "display_name": "Python 2",
   "language": "python",
   "name": "python2"
  },
  "language_info": {
   "codemirror_mode": {
    "name": "ipython",
    "version": 2
   },
   "file_extension": ".py",
   "mimetype": "text/x-python",
   "name": "python",
   "nbconvert_exporter": "python",
   "pygments_lexer": "ipython2",
   "version": "2.7.12"
  }
 },
 "nbformat": 4,
 "nbformat_minor": 2
}